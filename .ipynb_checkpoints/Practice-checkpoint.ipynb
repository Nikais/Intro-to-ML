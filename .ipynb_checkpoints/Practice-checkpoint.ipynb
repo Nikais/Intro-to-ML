{
 "cells": [
  {
   "cell_type": "markdown",
   "metadata": {},
   "source": [
    "# Практические задания Pandas\n",
    "## Задание №1\n",
    "[Любым](https://pandas.pydata.org/pandas-docs/stable/generated/pandas.DataFrame.html) удобным для вас способом создайте dataframe c именем my_data, в котором две колонки c именами (type - строки, value - целые числа) и четыре наблюдения в каждой колонке:"
   ]
  },
  {
   "cell_type": "code",
   "execution_count": null,
   "metadata": {},
   "outputs": [],
   "source": []
  },
  {
   "cell_type": "markdown",
   "metadata": {},
   "source": [
    "## Задание №2\n",
    "Особенно важный навык при работе с данными - это умение быстро и эффективно отбирать нужные вам колонки или строки.  \n",
    "\n",
    "Начнем с простого, в dataframe с именем my_stat сохранено 20 строк и четыре колонки (V1, V2, V3, V4):  \n",
    "\n",
    "В переменную с именем `subset_1` сохраните только первые 10 строк и только 1 и 3 колонку.  \n",
    "В переменную с именем `subset_2` сохраните все строки кроме 1 и 5 и только 2 и 4 колонку.  \n",
    "\n",
    "**Помните, что нумерация индексов строк и колонок начинается с 0.**  \n",
    "\n",
    "Обратите внимание, получившиеся `subset_1` и `subset_2` - тоже должны быть dataframe.  \n",
    "\n",
    "Вы можете скачать набор [данных](https://stepik.org/media/attachments/course/4852/my_stat.csv), которые нам также пригодятся в следующих заданиях,  и потренироваться у себя на компьютере.  \n",
    "Чтобы считать данные при помощи pandas, используйте функцию [read_csv](https://pandas.pydata.org/pandas-docs/stable/generated/pandas.read_csv.html).  \n",
    "```python\n",
    "import pandas as pd\n",
    "\n",
    "my_stat = pd.read_csv('my_stat.csv')\n",
    "```\n",
    "Важно [понимать](https://stackoverflow.com/questions/31593201/pandas-iloc-vs-ix-vs-loc-explanation), в чем разница между pandas loc и iloc. Как отобрать все строки [кроме](https://pandas.pydata.org/pandas-docs/stable/generated/pandas.DataFrame.drop.html) указанных? Умение искать [ответы](https://stackoverflow.com/questions/28256761/select-pandas-rows-by-excluding-index-number) поможет вам на начальных этапах знакомства с pandas!"
   ]
  },
  {
   "cell_type": "code",
   "execution_count": null,
   "metadata": {},
   "outputs": [],
   "source": []
  },
  {
   "cell_type": "markdown",
   "metadata": {},
   "source": [
    "## Задание №3\n",
    "Теперь потренируемся отбирать нужные нам наблюдения (строки), соответствующие некому условию. В dataframe с именем `my_stat` четыре колонки V1, V2, V3, V4:  \n",
    "\n",
    "В переменную `subset_1` сохраните только те наблюдения, у которых значения переменной V1  строго больше 0, и значение переменной V3  равняется 'A'.  \n",
    "\n",
    "В переменную  `subset_2`  сохраните только те наблюдения, у которых значения переменной V2  не равняются 10, или значения переменной V4 больше или равно 1.  \n",
    "\n",
    "Как и в предыдущей задаче результат фильтрации - это тоже dataframe.  \n",
    "\n",
    "Фильтрацию данных можно осуществить разными способами, например [так](https://pandas.pydata.org/pandas-docs/stable/generated/pandas.DataFrame.query.html?highlight=query) или [так](https://stackoverflow.com/questions/22086116/how-do-you-filter-pandas-dataframes-by-multiple-columns)."
   ]
  },
  {
   "cell_type": "code",
   "execution_count": null,
   "metadata": {},
   "outputs": [],
   "source": []
  },
  {
   "cell_type": "markdown",
   "metadata": {},
   "source": [
    "## Задание №4\n",
    "Теперь давайте преобразуем наши данные. В переменной my_stat лежат данные с котороыми вам необходимо проделать следующее дейтвие. В этих данных (my_stat) создайте две новые переменных:  \n",
    "\n",
    "V5 = V1 + V4  \n",
    "\n",
    "V6 = натуральный логарифм переменной V2  \n",
    "\n",
    "[Где](https://docs.scipy.org/doc/numpy-1.13.0/reference/generated/numpy.log.html) найти натуральный логарифм?"
   ]
  },
  {
   "cell_type": "code",
   "execution_count": null,
   "metadata": {},
   "outputs": [],
   "source": []
  },
  {
   "cell_type": "markdown",
   "metadata": {},
   "source": [
    "###  Задание №5\n",
    "Отличная работа, закрепим еще пару важных вопросов и можно двигаться дальше. \n",
    "\n",
    "Переменные V1, V2  ... такие имена никуда не годятся. С такими названиями легко запутаться в собственных данных и в результате ошибиться в расчетах.  \n",
    "\n",
    "[Переименуйте](https://pandas.pydata.org/pandas-docs/version/0.21/generated/pandas.DataFrame.rename.html) колонки в данных  my_stat следующим образом:  \n",
    "\n",
    "V1 -> session_value  \n",
    "V2 -> group  \n",
    "V3 -> time  \n",
    "V4 -> n_users  "
   ]
  },
  {
   "cell_type": "code",
   "execution_count": null,
   "metadata": {},
   "outputs": [],
   "source": []
  },
  {
   "cell_type": "markdown",
   "metadata": {},
   "source": [
    "### Задание №6\n",
    "И напоследок давайте разберемся, как заменять наблюдения в данных.  \n",
    "\n",
    "В dataframe с именем my_stat сохранены данные с 4 колонками: session_value, group, time, n_users.  \n",
    "\n",
    "В переменной session_value [замените](https://pandas.pydata.org/pandas-docs/stable/generated/pandas.DataFrame.fillna.html) все пропущенные значения на нули.  \n",
    "\n",
    "В переменной n_users замените все отрицательные значения на [медианное](https://pandas.pydata.org/pandas-docs/stable/generated/pandas.DataFrame.median.html) значение переменной n_users (без учета отрицательных значений, разумеется).  \n",
    "Как получить медиану переменной n_users без учета отрицательных значений? Если не придумали решения, подсказка - ищите один из возможных ответов в [задачах](https://stepik.org/lesson/63276/step/4?unit=40377), которые мы уже решили.  \n",
    "\n",
    "[Данные](https://stepik.org/media/attachments/course/4852/my_stat_1.csv) для тренировки.  "
   ]
  },
  {
   "cell_type": "code",
   "execution_count": null,
   "metadata": {},
   "outputs": [],
   "source": []
  },
  {
   "cell_type": "markdown",
   "metadata": {},
   "source": [
    "### Задание №7\n",
    "Чуть не забыли, никакой анализ данных не обходится без агрегации наблюдений. Напомню, в pandas с этим нам поможет связка  groupby + некоторое преобразование. Например:\n",
    "```python\n",
    "# число наблюдений в каждой группе\n",
    "df.groupby('group_var').count()\n",
    "```\n",
    "Для того, что бы сгруппировать данные по нескольким переменным, используем список с нужными именами:  \n",
    "```python\n",
    "df.groupby(['group_var_1', 'group_var_2']).count()\n",
    "```\n",
    "Обратите внимание, что при такой записи группирующие переменные станут индексами в итоговом dataframe, изучите [справку](https://pandas.pydata.org/pandas-docs/stable/generated/pandas.DataFrame.groupby.html) по groupby, чтобы разобраться со всеми тонкостями группировки данных. Также функция count() применится ко всем колонкам, что не всегда является желанным результатом. Чтобы применить функцию только к нужной колонке в данных, можно использовать связку  groupby() + [agg()](https://pandas.pydata.org/pandas-docs/stable/generated/pandas.core.groupby.DataFrameGroupBy.agg.html)\n",
    "```python\n",
    "my_stat.groupby('group').agg({'n_users': 'count'})\n",
    "```\n",
    "В этой задаче для данных my_stat рассчитайте среднее значение переменной session_value для каждой группы (переменная group), в получившемся dataframe  переменная group не должна превратиться в индекс. Также переименуйте колонку со средним значением session_value в mean_session_value.  \n",
    "\n",
    "Получившийся результат сохраните в dataframe с именем mean_session_value_data."
   ]
  },
  {
   "cell_type": "code",
   "execution_count": null,
   "metadata": {},
   "outputs": [],
   "source": []
  }
 ],
 "metadata": {
  "kernelspec": {
   "display_name": "Python 3",
   "language": "python",
   "name": "python3"
  },
  "language_info": {
   "codemirror_mode": {
    "name": "ipython",
    "version": 3
   },
   "file_extension": ".py",
   "mimetype": "text/x-python",
   "name": "python",
   "nbconvert_exporter": "python",
   "pygments_lexer": "ipython3",
   "version": "3.7.4"
  }
 },
 "nbformat": 4,
 "nbformat_minor": 2
}
